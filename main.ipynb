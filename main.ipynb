{
 "cells": [
  {
   "cell_type": "code",
   "execution_count": 1,
   "id": "initial_id",
   "metadata": {
    "collapsed": true,
    "ExecuteTime": {
     "end_time": "2025-01-11T17:45:09.029226300Z",
     "start_time": "2025-01-11T17:45:08.681348800Z"
    }
   },
   "outputs": [],
   "source": [
    "import pandas as pd\n",
    "import numpy as np"
   ]
  },
  {
   "cell_type": "markdown",
   "source": [
    "# 1. Load and preprocess data "
   ],
   "metadata": {
    "collapsed": false
   },
   "id": "4c222840ea6f75d7"
  },
  {
   "cell_type": "code",
   "execution_count": 2,
   "outputs": [
    {
     "name": "stderr",
     "output_type": "stream",
     "text": [
      "C:\\SDKs\\ml_venv\\lib\\site-packages\\openpyxl\\styles\\stylesheet.py:226: UserWarning: Workbook contains no default style, apply openpyxl's default\n",
      "  warn(\"Workbook contains no default style, apply openpyxl's default\")\n",
      "C:\\SDKs\\ml_venv\\lib\\site-packages\\openpyxl\\styles\\stylesheet.py:226: UserWarning: Workbook contains no default style, apply openpyxl's default\n",
      "  warn(\"Workbook contains no default style, apply openpyxl's default\")\n",
      "C:\\SDKs\\ml_venv\\lib\\site-packages\\openpyxl\\styles\\stylesheet.py:226: UserWarning: Workbook contains no default style, apply openpyxl's default\n",
      "  warn(\"Workbook contains no default style, apply openpyxl's default\")\n"
     ]
    }
   ],
   "source": [
    "df_candidates = pd.read_csv('data/kvrk.csv')\n",
    "df_party_codes = pd.read_excel('data/cvs.xlsx')\n",
    "df_region_codes = pd.read_excel('data/cnumnuts.xlsx')\n",
    "df_council_codes = pd.read_excel('data/kvcoco.xlsx')"
   ],
   "metadata": {
    "collapsed": false,
    "ExecuteTime": {
     "end_time": "2025-01-11T17:45:10.503947200Z",
     "start_time": "2025-01-11T17:45:09.031225900Z"
    }
   },
   "id": "ea35f0b5226ab4b9"
  },
  {
   "cell_type": "code",
   "execution_count": 3,
   "outputs": [
    {
     "data": {
      "text/plain": "      DATUMVOLEB  KRAJ  OKRES  TYPZASTUP  DRUHZASTUP  KODZASTUP  \\\n0       20220923  7200   7204          1           1     500011   \n1       20220923  7100   7105          1           1     500020   \n2       20220923  8100   8104          1           1     500046   \n3       20220923  1100   1100          2           5     500054   \n4       20220923  7200   7203          1           1     500062   \n...          ...   ...    ...        ...         ...        ...   \n6503    20220923  8100   8104          1           6     599930   \n6504    20220923  8100   8104          1           2     599948   \n6505    20220923  8100   8104          1           1     599956   \n6506    20220923  8100   8104          1           1     599964   \n6507    20220923  8100   8104          1           1     599999   \n\n                     NAZEVZAST  OBVODY  COBVODU  MANDATY  OKRSKYCELK  \\\n0     Želechovice nad Dřevnicí       0        1       15         3.0   \n1            Petrov nad Desnou       0        1       11         2.0   \n2                      Libhošť       0        1       15         1.0   \n3                      Praha 1       0        1       27        21.0   \n4                       Krhová       0        1       15         1.0   \n...                        ...     ...      ...      ...         ...   \n6503         Suchdol nad Odrou       0        1       15         2.0   \n6504                 Štramberk       0        1       15         4.0   \n6505                     Tichá       0        1       11         1.0   \n6506                     Tísek       0        1        9         1.0   \n6507               Trojanovice       0        1       11         2.0   \n\n      TYPDUVODU  STAV_OBCE  NADRZASTUP  \n0             1          0    500011.0  \n1             1          0    500020.0  \n2             1          0    500046.0  \n3             1          0    554782.0  \n4             1          0    500062.0  \n...         ...        ...         ...  \n6503          1          0    599930.0  \n6504          1          0    599948.0  \n6505          1          0    599956.0  \n6506          1          0    599964.0  \n6507          1          0    599999.0  \n\n[6508 rows x 14 columns]",
      "text/html": "<div>\n<style scoped>\n    .dataframe tbody tr th:only-of-type {\n        vertical-align: middle;\n    }\n\n    .dataframe tbody tr th {\n        vertical-align: top;\n    }\n\n    .dataframe thead th {\n        text-align: right;\n    }\n</style>\n<table border=\"1\" class=\"dataframe\">\n  <thead>\n    <tr style=\"text-align: right;\">\n      <th></th>\n      <th>DATUMVOLEB</th>\n      <th>KRAJ</th>\n      <th>OKRES</th>\n      <th>TYPZASTUP</th>\n      <th>DRUHZASTUP</th>\n      <th>KODZASTUP</th>\n      <th>NAZEVZAST</th>\n      <th>OBVODY</th>\n      <th>COBVODU</th>\n      <th>MANDATY</th>\n      <th>OKRSKYCELK</th>\n      <th>TYPDUVODU</th>\n      <th>STAV_OBCE</th>\n      <th>NADRZASTUP</th>\n    </tr>\n  </thead>\n  <tbody>\n    <tr>\n      <th>0</th>\n      <td>20220923</td>\n      <td>7200</td>\n      <td>7204</td>\n      <td>1</td>\n      <td>1</td>\n      <td>500011</td>\n      <td>Želechovice nad Dřevnicí</td>\n      <td>0</td>\n      <td>1</td>\n      <td>15</td>\n      <td>3.0</td>\n      <td>1</td>\n      <td>0</td>\n      <td>500011.0</td>\n    </tr>\n    <tr>\n      <th>1</th>\n      <td>20220923</td>\n      <td>7100</td>\n      <td>7105</td>\n      <td>1</td>\n      <td>1</td>\n      <td>500020</td>\n      <td>Petrov nad Desnou</td>\n      <td>0</td>\n      <td>1</td>\n      <td>11</td>\n      <td>2.0</td>\n      <td>1</td>\n      <td>0</td>\n      <td>500020.0</td>\n    </tr>\n    <tr>\n      <th>2</th>\n      <td>20220923</td>\n      <td>8100</td>\n      <td>8104</td>\n      <td>1</td>\n      <td>1</td>\n      <td>500046</td>\n      <td>Libhošť</td>\n      <td>0</td>\n      <td>1</td>\n      <td>15</td>\n      <td>1.0</td>\n      <td>1</td>\n      <td>0</td>\n      <td>500046.0</td>\n    </tr>\n    <tr>\n      <th>3</th>\n      <td>20220923</td>\n      <td>1100</td>\n      <td>1100</td>\n      <td>2</td>\n      <td>5</td>\n      <td>500054</td>\n      <td>Praha 1</td>\n      <td>0</td>\n      <td>1</td>\n      <td>27</td>\n      <td>21.0</td>\n      <td>1</td>\n      <td>0</td>\n      <td>554782.0</td>\n    </tr>\n    <tr>\n      <th>4</th>\n      <td>20220923</td>\n      <td>7200</td>\n      <td>7203</td>\n      <td>1</td>\n      <td>1</td>\n      <td>500062</td>\n      <td>Krhová</td>\n      <td>0</td>\n      <td>1</td>\n      <td>15</td>\n      <td>1.0</td>\n      <td>1</td>\n      <td>0</td>\n      <td>500062.0</td>\n    </tr>\n    <tr>\n      <th>...</th>\n      <td>...</td>\n      <td>...</td>\n      <td>...</td>\n      <td>...</td>\n      <td>...</td>\n      <td>...</td>\n      <td>...</td>\n      <td>...</td>\n      <td>...</td>\n      <td>...</td>\n      <td>...</td>\n      <td>...</td>\n      <td>...</td>\n      <td>...</td>\n    </tr>\n    <tr>\n      <th>6503</th>\n      <td>20220923</td>\n      <td>8100</td>\n      <td>8104</td>\n      <td>1</td>\n      <td>6</td>\n      <td>599930</td>\n      <td>Suchdol nad Odrou</td>\n      <td>0</td>\n      <td>1</td>\n      <td>15</td>\n      <td>2.0</td>\n      <td>1</td>\n      <td>0</td>\n      <td>599930.0</td>\n    </tr>\n    <tr>\n      <th>6504</th>\n      <td>20220923</td>\n      <td>8100</td>\n      <td>8104</td>\n      <td>1</td>\n      <td>2</td>\n      <td>599948</td>\n      <td>Štramberk</td>\n      <td>0</td>\n      <td>1</td>\n      <td>15</td>\n      <td>4.0</td>\n      <td>1</td>\n      <td>0</td>\n      <td>599948.0</td>\n    </tr>\n    <tr>\n      <th>6505</th>\n      <td>20220923</td>\n      <td>8100</td>\n      <td>8104</td>\n      <td>1</td>\n      <td>1</td>\n      <td>599956</td>\n      <td>Tichá</td>\n      <td>0</td>\n      <td>1</td>\n      <td>11</td>\n      <td>1.0</td>\n      <td>1</td>\n      <td>0</td>\n      <td>599956.0</td>\n    </tr>\n    <tr>\n      <th>6506</th>\n      <td>20220923</td>\n      <td>8100</td>\n      <td>8104</td>\n      <td>1</td>\n      <td>1</td>\n      <td>599964</td>\n      <td>Tísek</td>\n      <td>0</td>\n      <td>1</td>\n      <td>9</td>\n      <td>1.0</td>\n      <td>1</td>\n      <td>0</td>\n      <td>599964.0</td>\n    </tr>\n    <tr>\n      <th>6507</th>\n      <td>20220923</td>\n      <td>8100</td>\n      <td>8104</td>\n      <td>1</td>\n      <td>1</td>\n      <td>599999</td>\n      <td>Trojanovice</td>\n      <td>0</td>\n      <td>1</td>\n      <td>11</td>\n      <td>2.0</td>\n      <td>1</td>\n      <td>0</td>\n      <td>599999.0</td>\n    </tr>\n  </tbody>\n</table>\n<p>6508 rows × 14 columns</p>\n</div>"
     },
     "execution_count": 3,
     "metadata": {},
     "output_type": "execute_result"
    }
   ],
   "source": [
    "df_council_codes"
   ],
   "metadata": {
    "collapsed": false,
    "ExecuteTime": {
     "end_time": "2025-01-11T17:45:10.537143200Z",
     "start_time": "2025-01-11T17:45:10.502893Z"
    }
   },
   "id": "1317413bddea69c"
  },
  {
   "cell_type": "code",
   "execution_count": 4,
   "outputs": [
    {
     "data": {
      "text/plain": "   DATUMVOLEB  OKRES  KODZASTUP  COBVODU  POR_STR_HL  OSTRANA  PORCISLO  \\\n0    20220923   7204     500011        1           1      902         1   \n1    20220923   7204     500011        1           1      902         2   \n2    20220923   7204     500011        1           1      902         3   \n3    20220923   7204     500011        1           1      902         4   \n4    20220923   7204     500011        1           1      902         5   \n\n     JMENO    PRIJMENI TITULPRED  ...                 BYDLISTEN  PSTRANA  \\\n0      Eva  Štauderová      Mgr.  ...  Želechovice nad Dřevnicí     99.0   \n1  Norbert        Pelc      Ing.  ...  Želechovice nad Dřevnicí     99.0   \n2  Pavlína   Svobodová      Ing.  ...  Želechovice nad Dřevnicí     99.0   \n3  Jaromír       Janoš      Ing.  ...  Želechovice nad Dřevnicí     99.0   \n4    Jitka   Chytilová       NaN  ...  Želechovice nad Dřevnicí     99.0   \n\n  NSTRANA PLATNOST  POCHLASU  PRESKOCENI POCPROCVSE  MANDAT PORADIMAND  \\\n0    80.0        A       396           A       8.44       A          1   \n1    80.0        A       333           N       7.10       A          4   \n2    80.0        A       350           A       7.46       A          3   \n3    80.0        A       333           N       7.10       A          5   \n4    80.0        A       293           N       6.24       A          6   \n\n   PORADINAHR  \n0           0  \n1           0  \n2           0  \n3           0  \n4           0  \n\n[5 rows x 23 columns]",
      "text/html": "<div>\n<style scoped>\n    .dataframe tbody tr th:only-of-type {\n        vertical-align: middle;\n    }\n\n    .dataframe tbody tr th {\n        vertical-align: top;\n    }\n\n    .dataframe thead th {\n        text-align: right;\n    }\n</style>\n<table border=\"1\" class=\"dataframe\">\n  <thead>\n    <tr style=\"text-align: right;\">\n      <th></th>\n      <th>DATUMVOLEB</th>\n      <th>OKRES</th>\n      <th>KODZASTUP</th>\n      <th>COBVODU</th>\n      <th>POR_STR_HL</th>\n      <th>OSTRANA</th>\n      <th>PORCISLO</th>\n      <th>JMENO</th>\n      <th>PRIJMENI</th>\n      <th>TITULPRED</th>\n      <th>...</th>\n      <th>BYDLISTEN</th>\n      <th>PSTRANA</th>\n      <th>NSTRANA</th>\n      <th>PLATNOST</th>\n      <th>POCHLASU</th>\n      <th>PRESKOCENI</th>\n      <th>POCPROCVSE</th>\n      <th>MANDAT</th>\n      <th>PORADIMAND</th>\n      <th>PORADINAHR</th>\n    </tr>\n  </thead>\n  <tbody>\n    <tr>\n      <th>0</th>\n      <td>20220923</td>\n      <td>7204</td>\n      <td>500011</td>\n      <td>1</td>\n      <td>1</td>\n      <td>902</td>\n      <td>1</td>\n      <td>Eva</td>\n      <td>Štauderová</td>\n      <td>Mgr.</td>\n      <td>...</td>\n      <td>Želechovice nad Dřevnicí</td>\n      <td>99.0</td>\n      <td>80.0</td>\n      <td>A</td>\n      <td>396</td>\n      <td>A</td>\n      <td>8.44</td>\n      <td>A</td>\n      <td>1</td>\n      <td>0</td>\n    </tr>\n    <tr>\n      <th>1</th>\n      <td>20220923</td>\n      <td>7204</td>\n      <td>500011</td>\n      <td>1</td>\n      <td>1</td>\n      <td>902</td>\n      <td>2</td>\n      <td>Norbert</td>\n      <td>Pelc</td>\n      <td>Ing.</td>\n      <td>...</td>\n      <td>Želechovice nad Dřevnicí</td>\n      <td>99.0</td>\n      <td>80.0</td>\n      <td>A</td>\n      <td>333</td>\n      <td>N</td>\n      <td>7.10</td>\n      <td>A</td>\n      <td>4</td>\n      <td>0</td>\n    </tr>\n    <tr>\n      <th>2</th>\n      <td>20220923</td>\n      <td>7204</td>\n      <td>500011</td>\n      <td>1</td>\n      <td>1</td>\n      <td>902</td>\n      <td>3</td>\n      <td>Pavlína</td>\n      <td>Svobodová</td>\n      <td>Ing.</td>\n      <td>...</td>\n      <td>Želechovice nad Dřevnicí</td>\n      <td>99.0</td>\n      <td>80.0</td>\n      <td>A</td>\n      <td>350</td>\n      <td>A</td>\n      <td>7.46</td>\n      <td>A</td>\n      <td>3</td>\n      <td>0</td>\n    </tr>\n    <tr>\n      <th>3</th>\n      <td>20220923</td>\n      <td>7204</td>\n      <td>500011</td>\n      <td>1</td>\n      <td>1</td>\n      <td>902</td>\n      <td>4</td>\n      <td>Jaromír</td>\n      <td>Janoš</td>\n      <td>Ing.</td>\n      <td>...</td>\n      <td>Želechovice nad Dřevnicí</td>\n      <td>99.0</td>\n      <td>80.0</td>\n      <td>A</td>\n      <td>333</td>\n      <td>N</td>\n      <td>7.10</td>\n      <td>A</td>\n      <td>5</td>\n      <td>0</td>\n    </tr>\n    <tr>\n      <th>4</th>\n      <td>20220923</td>\n      <td>7204</td>\n      <td>500011</td>\n      <td>1</td>\n      <td>1</td>\n      <td>902</td>\n      <td>5</td>\n      <td>Jitka</td>\n      <td>Chytilová</td>\n      <td>NaN</td>\n      <td>...</td>\n      <td>Želechovice nad Dřevnicí</td>\n      <td>99.0</td>\n      <td>80.0</td>\n      <td>A</td>\n      <td>293</td>\n      <td>N</td>\n      <td>6.24</td>\n      <td>A</td>\n      <td>6</td>\n      <td>0</td>\n    </tr>\n  </tbody>\n</table>\n<p>5 rows × 23 columns</p>\n</div>"
     },
     "execution_count": 4,
     "metadata": {},
     "output_type": "execute_result"
    }
   ],
   "source": [
    "df_candidates.head()"
   ],
   "metadata": {
    "collapsed": false,
    "ExecuteTime": {
     "end_time": "2025-01-11T17:45:10.584238Z",
     "start_time": "2025-01-11T17:45:10.532143500Z"
    }
   },
   "id": "acd2b5abb622f207"
  },
  {
   "cell_type": "code",
   "execution_count": 5,
   "outputs": [],
   "source": [
    "party_mapping = df_party_codes.set_index('VSTRANA')['NAZEV_STRV']\n",
    "region_mapping = df_region_codes.set_index('NUMNUTS')['NAZEVNUTS']\n",
    "council_mapping = df_council_codes.set_index('KODZASTUP')['NAZEVZAST']\n",
    "\n",
    "df_candidates = df_candidates.merge(\n",
    "    df_council_codes[['KODZASTUP', 'NAZEVZAST']],\n",
    "    on='KODZASTUP',\n",
    "    how='left'\n",
    ")\n",
    "\n",
    "df_candidates['OKRES'] = df_candidates['OKRES'].map(region_mapping)\n",
    "df_candidates['PSTRANA'] = df_candidates['PSTRANA'].map(party_mapping)\n",
    "df_candidates['NSTRANA'] = df_candidates['NSTRANA'].map(party_mapping)"
   ],
   "metadata": {
    "collapsed": false,
    "ExecuteTime": {
     "end_time": "2025-01-11T17:45:10.639913600Z",
     "start_time": "2025-01-11T17:45:10.549693300Z"
    }
   },
   "id": "acf9e745e350c5cb"
  },
  {
   "cell_type": "code",
   "execution_count": 6,
   "outputs": [],
   "source": [
    "df_candidates['JMENO'] = df_candidates['JMENO'] + \" \" + df_candidates['PRIJMENI']\n",
    "df_candidates = df_candidates.drop('PRIJMENI', axis=1)"
   ],
   "metadata": {
    "collapsed": false,
    "ExecuteTime": {
     "end_time": "2025-01-11T17:45:10.690459800Z",
     "start_time": "2025-01-11T17:45:10.610787100Z"
    }
   },
   "id": "1d896b0a582dc37a"
  },
  {
   "cell_type": "code",
   "execution_count": 7,
   "outputs": [
    {
     "data": {
      "text/plain": "        DATUMVOLEB      OKRES  KODZASTUP  COBVODU  POR_STR_HL  OSTRANA  \\\n0         20220923       Zlín     500011        1           1      902   \n1         20220923       Zlín     500011        1           1      902   \n2         20220923       Zlín     500011        1           1      902   \n3         20220923       Zlín     500011        1           1      902   \n4         20220923       Zlín     500011        1           1      902   \n...            ...        ...        ...      ...         ...      ...   \n201349    20241005  Prostějov     589853        1           2      901   \n201350    20241005  Prostějov     589853        1           2      901   \n201351    20241005  Prostějov     589853        1           2      901   \n201352    20241005  Prostějov     589853        1           2      901   \n201353    20241005  Prostějov     589853        1           2      901   \n\n        PORCISLO              JMENO TITULPRED TITULZA  ...  \\\n0              1     Eva Štauderová      Mgr.     NaN  ...   \n1              2       Norbert Pelc      Ing.     NaN  ...   \n2              3  Pavlína Svobodová      Ing.     NaN  ...   \n3              4      Jaromír Janoš      Ing.     NaN  ...   \n4              5    Jitka Chytilová       NaN     NaN  ...   \n...          ...                ...       ...     ...  ...   \n201349         7      Luboš Vymazal       NaN     NaN  ...   \n201350         8    Zdeňka Grmelová       NaN     NaN  ...   \n201351         8    Zdeňka Grmelová       NaN     NaN  ...   \n201352         9       Petr Kosatík       NaN     NaN  ...   \n201353         9       Petr Kosatík       NaN     NaN  ...   \n\n                           PSTRANA             NSTRANA PLATNOST POCHLASU  \\\n0       Bez politické příslušnosti  Nezávislý kandidát        A      396   \n1       Bez politické příslušnosti  Nezávislý kandidát        A      333   \n2       Bez politické příslušnosti  Nezávislý kandidát        A      350   \n3       Bez politické příslušnosti  Nezávislý kandidát        A      333   \n4       Bez politické příslušnosti  Nezávislý kandidát        A      293   \n...                            ...                 ...      ...      ...   \n201349  Bez politické příslušnosti  Nezávislý kandidát        A      117   \n201350  Bez politické příslušnosti  Nezávislý kandidát        A       28   \n201351  Bez politické příslušnosti  Nezávislý kandidát        A       28   \n201352  Bez politické příslušnosti  Nezávislý kandidát        A       35   \n201353  Bez politické příslušnosti  Nezávislý kandidát        A       35   \n\n       PRESKOCENI POCPROCVSE  MANDAT PORADIMAND  PORADINAHR  \\\n0               A       8.44       A          1           0   \n1               N       7.10       A          4           0   \n2               A       7.46       A          3           0   \n3               N       7.10       A          5           0   \n4               N       6.24       A          6           0   \n...           ...        ...     ...        ...         ...   \n201349          A      12.73       N          0           1   \n201350          N       3.04       N          0           3   \n201351          N       3.04       N          0           3   \n201352          N       3.80       N          0           4   \n201353          N       3.80       N          0           4   \n\n                       NAZEVZAST  \n0       Želechovice nad Dřevnicí  \n1       Želechovice nad Dřevnicí  \n2       Želechovice nad Dřevnicí  \n3       Želechovice nad Dřevnicí  \n4       Želechovice nad Dřevnicí  \n...                          ...  \n201349                  Otinoves  \n201350                  Otinoves  \n201351                  Otinoves  \n201352                  Otinoves  \n201353                  Otinoves  \n\n[201354 rows x 23 columns]",
      "text/html": "<div>\n<style scoped>\n    .dataframe tbody tr th:only-of-type {\n        vertical-align: middle;\n    }\n\n    .dataframe tbody tr th {\n        vertical-align: top;\n    }\n\n    .dataframe thead th {\n        text-align: right;\n    }\n</style>\n<table border=\"1\" class=\"dataframe\">\n  <thead>\n    <tr style=\"text-align: right;\">\n      <th></th>\n      <th>DATUMVOLEB</th>\n      <th>OKRES</th>\n      <th>KODZASTUP</th>\n      <th>COBVODU</th>\n      <th>POR_STR_HL</th>\n      <th>OSTRANA</th>\n      <th>PORCISLO</th>\n      <th>JMENO</th>\n      <th>TITULPRED</th>\n      <th>TITULZA</th>\n      <th>...</th>\n      <th>PSTRANA</th>\n      <th>NSTRANA</th>\n      <th>PLATNOST</th>\n      <th>POCHLASU</th>\n      <th>PRESKOCENI</th>\n      <th>POCPROCVSE</th>\n      <th>MANDAT</th>\n      <th>PORADIMAND</th>\n      <th>PORADINAHR</th>\n      <th>NAZEVZAST</th>\n    </tr>\n  </thead>\n  <tbody>\n    <tr>\n      <th>0</th>\n      <td>20220923</td>\n      <td>Zlín</td>\n      <td>500011</td>\n      <td>1</td>\n      <td>1</td>\n      <td>902</td>\n      <td>1</td>\n      <td>Eva Štauderová</td>\n      <td>Mgr.</td>\n      <td>NaN</td>\n      <td>...</td>\n      <td>Bez politické příslušnosti</td>\n      <td>Nezávislý kandidát</td>\n      <td>A</td>\n      <td>396</td>\n      <td>A</td>\n      <td>8.44</td>\n      <td>A</td>\n      <td>1</td>\n      <td>0</td>\n      <td>Želechovice nad Dřevnicí</td>\n    </tr>\n    <tr>\n      <th>1</th>\n      <td>20220923</td>\n      <td>Zlín</td>\n      <td>500011</td>\n      <td>1</td>\n      <td>1</td>\n      <td>902</td>\n      <td>2</td>\n      <td>Norbert Pelc</td>\n      <td>Ing.</td>\n      <td>NaN</td>\n      <td>...</td>\n      <td>Bez politické příslušnosti</td>\n      <td>Nezávislý kandidát</td>\n      <td>A</td>\n      <td>333</td>\n      <td>N</td>\n      <td>7.10</td>\n      <td>A</td>\n      <td>4</td>\n      <td>0</td>\n      <td>Želechovice nad Dřevnicí</td>\n    </tr>\n    <tr>\n      <th>2</th>\n      <td>20220923</td>\n      <td>Zlín</td>\n      <td>500011</td>\n      <td>1</td>\n      <td>1</td>\n      <td>902</td>\n      <td>3</td>\n      <td>Pavlína Svobodová</td>\n      <td>Ing.</td>\n      <td>NaN</td>\n      <td>...</td>\n      <td>Bez politické příslušnosti</td>\n      <td>Nezávislý kandidát</td>\n      <td>A</td>\n      <td>350</td>\n      <td>A</td>\n      <td>7.46</td>\n      <td>A</td>\n      <td>3</td>\n      <td>0</td>\n      <td>Želechovice nad Dřevnicí</td>\n    </tr>\n    <tr>\n      <th>3</th>\n      <td>20220923</td>\n      <td>Zlín</td>\n      <td>500011</td>\n      <td>1</td>\n      <td>1</td>\n      <td>902</td>\n      <td>4</td>\n      <td>Jaromír Janoš</td>\n      <td>Ing.</td>\n      <td>NaN</td>\n      <td>...</td>\n      <td>Bez politické příslušnosti</td>\n      <td>Nezávislý kandidát</td>\n      <td>A</td>\n      <td>333</td>\n      <td>N</td>\n      <td>7.10</td>\n      <td>A</td>\n      <td>5</td>\n      <td>0</td>\n      <td>Želechovice nad Dřevnicí</td>\n    </tr>\n    <tr>\n      <th>4</th>\n      <td>20220923</td>\n      <td>Zlín</td>\n      <td>500011</td>\n      <td>1</td>\n      <td>1</td>\n      <td>902</td>\n      <td>5</td>\n      <td>Jitka Chytilová</td>\n      <td>NaN</td>\n      <td>NaN</td>\n      <td>...</td>\n      <td>Bez politické příslušnosti</td>\n      <td>Nezávislý kandidát</td>\n      <td>A</td>\n      <td>293</td>\n      <td>N</td>\n      <td>6.24</td>\n      <td>A</td>\n      <td>6</td>\n      <td>0</td>\n      <td>Želechovice nad Dřevnicí</td>\n    </tr>\n    <tr>\n      <th>...</th>\n      <td>...</td>\n      <td>...</td>\n      <td>...</td>\n      <td>...</td>\n      <td>...</td>\n      <td>...</td>\n      <td>...</td>\n      <td>...</td>\n      <td>...</td>\n      <td>...</td>\n      <td>...</td>\n      <td>...</td>\n      <td>...</td>\n      <td>...</td>\n      <td>...</td>\n      <td>...</td>\n      <td>...</td>\n      <td>...</td>\n      <td>...</td>\n      <td>...</td>\n      <td>...</td>\n    </tr>\n    <tr>\n      <th>201349</th>\n      <td>20241005</td>\n      <td>Prostějov</td>\n      <td>589853</td>\n      <td>1</td>\n      <td>2</td>\n      <td>901</td>\n      <td>7</td>\n      <td>Luboš Vymazal</td>\n      <td>NaN</td>\n      <td>NaN</td>\n      <td>...</td>\n      <td>Bez politické příslušnosti</td>\n      <td>Nezávislý kandidát</td>\n      <td>A</td>\n      <td>117</td>\n      <td>A</td>\n      <td>12.73</td>\n      <td>N</td>\n      <td>0</td>\n      <td>1</td>\n      <td>Otinoves</td>\n    </tr>\n    <tr>\n      <th>201350</th>\n      <td>20241005</td>\n      <td>Prostějov</td>\n      <td>589853</td>\n      <td>1</td>\n      <td>2</td>\n      <td>901</td>\n      <td>8</td>\n      <td>Zdeňka Grmelová</td>\n      <td>NaN</td>\n      <td>NaN</td>\n      <td>...</td>\n      <td>Bez politické příslušnosti</td>\n      <td>Nezávislý kandidát</td>\n      <td>A</td>\n      <td>28</td>\n      <td>N</td>\n      <td>3.04</td>\n      <td>N</td>\n      <td>0</td>\n      <td>3</td>\n      <td>Otinoves</td>\n    </tr>\n    <tr>\n      <th>201351</th>\n      <td>20241005</td>\n      <td>Prostějov</td>\n      <td>589853</td>\n      <td>1</td>\n      <td>2</td>\n      <td>901</td>\n      <td>8</td>\n      <td>Zdeňka Grmelová</td>\n      <td>NaN</td>\n      <td>NaN</td>\n      <td>...</td>\n      <td>Bez politické příslušnosti</td>\n      <td>Nezávislý kandidát</td>\n      <td>A</td>\n      <td>28</td>\n      <td>N</td>\n      <td>3.04</td>\n      <td>N</td>\n      <td>0</td>\n      <td>3</td>\n      <td>Otinoves</td>\n    </tr>\n    <tr>\n      <th>201352</th>\n      <td>20241005</td>\n      <td>Prostějov</td>\n      <td>589853</td>\n      <td>1</td>\n      <td>2</td>\n      <td>901</td>\n      <td>9</td>\n      <td>Petr Kosatík</td>\n      <td>NaN</td>\n      <td>NaN</td>\n      <td>...</td>\n      <td>Bez politické příslušnosti</td>\n      <td>Nezávislý kandidát</td>\n      <td>A</td>\n      <td>35</td>\n      <td>N</td>\n      <td>3.80</td>\n      <td>N</td>\n      <td>0</td>\n      <td>4</td>\n      <td>Otinoves</td>\n    </tr>\n    <tr>\n      <th>201353</th>\n      <td>20241005</td>\n      <td>Prostějov</td>\n      <td>589853</td>\n      <td>1</td>\n      <td>2</td>\n      <td>901</td>\n      <td>9</td>\n      <td>Petr Kosatík</td>\n      <td>NaN</td>\n      <td>NaN</td>\n      <td>...</td>\n      <td>Bez politické příslušnosti</td>\n      <td>Nezávislý kandidát</td>\n      <td>A</td>\n      <td>35</td>\n      <td>N</td>\n      <td>3.80</td>\n      <td>N</td>\n      <td>0</td>\n      <td>4</td>\n      <td>Otinoves</td>\n    </tr>\n  </tbody>\n</table>\n<p>201354 rows × 23 columns</p>\n</div>"
     },
     "execution_count": 7,
     "metadata": {},
     "output_type": "execute_result"
    }
   ],
   "source": [
    "df_candidates"
   ],
   "metadata": {
    "collapsed": false,
    "ExecuteTime": {
     "end_time": "2025-01-11T17:45:10.815731900Z",
     "start_time": "2025-01-11T17:45:10.689459500Z"
    }
   },
   "id": "b1cebd3a11699f0d"
  },
  {
   "cell_type": "code",
   "execution_count": 7,
   "outputs": [],
   "source": [],
   "metadata": {
    "collapsed": false,
    "ExecuteTime": {
     "end_time": "2025-01-11T17:45:10.838270700Z",
     "start_time": "2025-01-11T17:45:10.815731900Z"
    }
   },
   "id": "4d430a167a5bd081"
  }
 ],
 "metadata": {
  "kernelspec": {
   "display_name": "Python 3",
   "language": "python",
   "name": "python3"
  },
  "language_info": {
   "codemirror_mode": {
    "name": "ipython",
    "version": 2
   },
   "file_extension": ".py",
   "mimetype": "text/x-python",
   "name": "python",
   "nbconvert_exporter": "python",
   "pygments_lexer": "ipython2",
   "version": "2.7.6"
  }
 },
 "nbformat": 4,
 "nbformat_minor": 5
}
